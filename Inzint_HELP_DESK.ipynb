{
  "cells": [
    {
      "cell_type": "code",
      "execution_count": null,
      "metadata": {
        "id": "mUgKrTN6UNNR"
      },
      "outputs": [],
      "source": [
        "data__= [\n",
        "    {\"question\":\"Hi\", \"answer\": \"Hey How can I help you?\"},\n",
        "    {\"question\": \"Full support commitment developer working per business hour\", \"answer\": \"Inzint provides full support commitment with developers working per business hour.\"},\n",
        "    {\"question\": \"Custom software development\", \"answer\": \"Inzint offers custom software development services to provide innovative software designed as per the client's needs using the latest technology.\"},\n",
        "    {\"question\": \"Cloud computing services\", \"answer\": \"Inzint delivers hosting services that are reliable and provide network hosting globally, starting from cloud computing to remote resource hiring without additional entities, increasing productivity and adaptability by using remote resource services.\"},\n",
        "    {\"question\": \"Mobile app development\", \"answer\": \"Inzint specializes in developing Android as well as iOS apps that work across multiple platforms.\"},\n",
        "    {\"question\": \"Web development\", \"answer\": \"Inzint offers scalable web development services to automate work processes and enhance user experiences.\"},\n",
        "    {\"question\": \"Software consultation\", \"answer\": \"Inzint provides consultancy services to help identify and overcome technology barriers that hinder business growth.\"},\n",
        "    {\"question\": \"Why choose Inzint?\", \"answer\": \"Inzint is a pioneering software service provider in Noida, consistently delivering business value through the latest technology.\"},\n",
        "    {\"question\": \"Our mission and vision\", \"answer\": \"We are determined to be an organization working to deliver custom software solutions that enhance the digital journey using frontier technology to address challenges.\"},\n",
        "    {\"question\": \"Our technology partners\", \"answer\": \"Inzint relies on leading technology partners to provide products that meet the needs of our clients.\"},\n",
        "    {\"question\": \"What is the process for custom software development at Inzint?\", \"answer\": \"At Inzint, the process for custom software development involves understanding the client's requirements, designing and creating the software, deploying it, and providing ongoing maintenance and support.\"},\n",
        "    {\"question\": \"Can Inzint help with data transformation?\", \"answer\": \"Yes, Inzint can help accelerate the cycle of data transformation by offering digital enablement services to drive key business outcomes using a full-service digital stack.\"},\n",
        "    {\"question\": \"What is the innovation partnership approach at Inzint?\", \"answer\": \"Inzint adopts a collaborative approach to innovation, leveraging an innovation lab and forming alliances to create the future financial ecosystem.\"},\n",
        "    {\"question\": \"What are the career opportunities at Inzint?\", \"answer\": \"Inzint offers various career opportunities for talented individuals, including roles such as full-stack developers, backend developers, software project managers, and trainee developers.\"},\n",
        "    {\"question\": \"How can I contact Inzint for software consultation?\", \"answer\": \"You can contact Inzint for software consultation by reaching out to our team through the contact form on our website or by emailing us directly.\"},\n",
        "    {\"question\": \"What are the benefits of choosing Inzint for custom software development?\", \"answer\": \"Choosing Inzint for custom software development ensures that you receive a solution tailored to your specific needs, with a focus on cost-effectiveness, transparency, and superior customer service.\"},\n",
        "    {\"question\": \"What industries does Inzint serve?\", \"answer\": \"Inzint serves a wide range of industries, including healthcare, finance, education, retail, manufacturing, and more.\"},\n",
        "    {\"question\": \"How does Inzint ensure data security in cloud computing?\", \"answer\": \"Inzint ensures data security in cloud computing by implementing robust security measures, such as encryption, access controls, and regular security audits.\"},\n",
        "    {\"question\": \"Can Inzint help with SEO strategy?\", \"answer\": \"Yes, Inzint can assist with SEO strategy by providing services such as building backlinks, improving domain authority, and optimizing website content for search engines.\"},\n",
        "    {\"question\": \"What is the future of conversational AI at Inzint?\", \"answer\": \"At Inzint, the future of conversational AI is bright, with ongoing advancements in chat capabilities and the adoption of innovative AI models such as GPT (Generative Pre-trained Transformer).\"},\n",
        "    {\"question\": \"What is the process for custom software development at Inzint?\", \"answer\": \"At Inzint, the process for custom software development involves understanding the client's requirements, designing and creating the software, deploying it, and providing ongoing maintenance and support.\"},\n",
        "    {\"question\": \"Can Inzint help with data transformation?\", \"answer\": \"Yes, Inzint can help accelerate the cycle of data transformation by offering digital enablement services to drive key business outcomes using a full-service digital stack.\"},\n",
        "    {\"question\": \"What is the innovation partnership approach at Inzint?\", \"answer\": \"Inzint adopts a collaborative approach to innovation, leveraging an innovation lab and forming alliances to create the future financial ecosystem.\"},\n",
        "    {\"question\": \"What are the career opportunities at Inzint?\", \"answer\": \"Inzint offers various career opportunities for talented individuals, including roles such as full-stack developers, backend developers, software project managers, and trainee developers.\"},\n",
        "    {\"question\": \"How can I contact Inzint for software consultation?\", \"answer\": \"You can contact Inzint for software consultation by reaching out to our team through the contact form on our website or by emailing us directly.\"},\n",
        "    {\"question\": \"What are the benefits of choosing Inzint for custom software development?\", \"answer\": \"Choosing Inzint for custom software development ensures that you receive a solution tailored to your specific needs, with a focus on cost-effectiveness, transparency, and superior customer service.\"},\n",
        "    {\"question\": \"What industries does Inzint serve?\", \"answer\": \"Inzint serves a wide range of industries, including healthcare, finance, education, retail, manufacturing, and more.\"},\n",
        "    {\"question\": \"How does Inzint ensure data security in cloud computing?\", \"answer\": \"Inzint ensures data security in cloud computing by implementing robust security measures, such as encryption, access controls, and regular security audits.\"},\n",
        "    {\"question\": \"Can Inzint help with SEO strategy?\", \"answer\": \"Yes, Inzint can assist with SEO strategy by providing services such as building backlinks, improving domain authority, and optimizing website content for search engines.\"},\n",
        "    {\"question\": \"What is the future of conversational AI at Inzint?\", \"answer\": \"At Inzint, the future of conversational AI is bright, with ongoing advancements in chat capabilities and the adoption of innovative AI models such as GPT (Generative Pre-trained Transformer).\"},\n",
        "    {\"question\": \"How can I contact Inzint for software consultation?\", \"answer\": \"You can contact Inzint for software consultation by reaching out to our team through the contact form on our website or by emailing us directly.\"},\n",
        "    {\"question\": \"What services does Inzint provide?\",\n",
        "     \"answer\": \"Inzint provides full support and commitment to developers working per business hour. We offer custom software development tailored to your needs using the latest technology. Additionally, we provide cloud computing services, delivering reliable hosting solutions through a global network of hosting providers. Our cloud computing services also include remote resource hiring to increase productivity and adaptability without additional entities.\"},\n",
        "    {\"question\": \"What expertise does Inzint offer in mobile app development?\",\n",
        "     \"answer\": \"Inzint specializes in mobile app development, offering expertise in developing Android as well as iOS apps. Our developers are skilled in working across multiple platforms to ensure optimal performance and user experience.\"},\n",
        "    {\"question\": \"How does Inzint enhance web development processes?\",\n",
        "     \"answer\": \"Inzint offers scalable web development services to automate work processes and enhance user experiences. Our team leverages the latest technologies to create innovative solutions that streamline workflows and improve efficiency.\"},\n",
        "    {\"question\": \"What role does software consultation play at Inzint?\",\n",
        "     \"answer\": \"Inzint provides software consultation services to help businesses identify and overcome technology barriers that may hinder their growth. Our consultants partner with companies to understand their needs and provide tailored solutions.\"},\n",
        "    {\"question\": \"What is Inzint's mission and vision?\",\n",
        "     \"answer\": \"Inzint is determined to deliver custom software solutions that enhance the digital journey of our clients using frontier technology. Our mission is to help businesses of all sizes and verticals accomplish their goals.\"},\n",
        "    {\"question\": \"What are the core principles of Inzint?\",\n",
        "     \"answer\": \"One of Inzint's defining principles is to rely on leading technology partners to provide products that meet our clients' needs. We also have a highly experienced management team dedicated to delivering reliable and secure technology solutions.\"},\n",
        "    {\"question\": \"What is the importance of customer service at Inzint?\",\n",
        "     \"answer\": \"At Inzint, we strive to provide superior customer service to ensure every client is completely satisfied with our work. Our engineers are trustworthy, dedicated, and experienced, going the extra mile to solve issues with quality solutions.\"},\n",
        "    {\"question\": \"How does Inzint approach innovation?\",\n",
        "     \"answer\": \"Inzint adopts a collaborative approach to innovation, leveraging our innovation lab and forming partnerships with leading technology companies. We are always accommodating diverse needs and strive to be a part of our clients' success.\"},\n",
        "    {\"question\": \"What career opportunities are available at Inzint?\",\n",
        "     \"answer\": \"Inzint offers various career opportunities for individuals passionate about technology and innovation. We have roles ranging from full-stack developers and engineers to management and business development positions.\"},\n",
        "    {\"question\": \"Where is Inzint located and how can I contact them?\",\n",
        "     \"answer\": \"Inzint has offices in Noida, Sydney, and the United States. You can contact us through our website or by reaching out to our team members directly via email or phone.\"},\n",
        "    {\"question\": \"Who are the founders of Inzint?\",\n",
        "     \"answer\": \"Inzint was founded by Jaideep Jai, Vikas Thakur. They are the directors of the company and have a long history of success in technology, business management, and franchising.\"},\n",
        "    {\"question\": \"What is the team composition at Inzint?\",\n",
        "     \"answer\": \"The team at Inzint consists of highly skilled professionals across various roles. We have engineers, managers, business development executives, HR managers, accountants, quality engineers, and more. Each member of our team is dedicated to delivering outstanding solutions and adding real value to our clients.\"},\n",
        "    {\"question\": \"How does Inzint ensure quality in its team?\",\n",
        "     \"answer\": \"At Inzint, we have a rigorous hiring process to ensure that we onboard the best talent. Our people are at the heart of our operation, and we are fanatical about finding the brightest problem solvers in the industry. We provide a great place to work and choose people who are smart and dedicated to our mission.\"},\n",
        "    {\"question\": \"What is the role of customer service at Inzint?\",\n",
        "     \"answer\": \"Inzint strives to provide superior customer service to ensure that every client is completely satisfied with our work. Our engineers are trustworthy, dedicated, and experienced, and they go the extra mile to solve issues with quality solutions.\"},\n",
        "    {\"question\": \"What are the core values of Inzint's team?\",\n",
        "     \"answer\": \"At Inzint, we value transparency, customer satisfaction, quality, and innovation. Our team is committed to delivering outstanding cutting-edge solutions that add real value to our clients. We believe in going beyond expectations and providing the best possible service.\"},\n",
        "    {\"question\": \"What career opportunities are available at Inzint?\",\n",
        "     \"answer\": \"Inzint offers various career opportunities for individuals passionate about technology and innovation. We have roles ranging from full-stack developers and engineers to management and business development positions. We are always looking for talented individuals to join our team.\"},\n",
        "    {\"question\": \"How can I join the team at Inzint?\",\n",
        "     \"answer\": \"If you are interested in joining the team at Inzint, you can check our current openings on our website or reach out to us directly. We are always looking for talented and passionate individuals to join our team and help us achieve our mission.\"},\n",
        "    {\"question\": \"Who are the directors of Inzint?\",\"answer\": \"Vikas Thakur and Jaideep are the directors of Inzint.\"},\n",
        "     {\"question\": \"Who are the founders of Inzint?\",\n",
        "     \"answer\": \"Inzint was founded by Jaideep Goyal, Vikas Thakur. They are the directors of the company and have a long history of success in technology, business management, and franchising.\"},\n",
        "    {\"question\": \"What is the role of Jaideep Goyal at Inzint?\",\n",
        "     \"answer\": \"Jaideep Jai is one of the directors of Inzint. He plays a key role in shaping the company's vision and strategy, leveraging his expertise in technology and business management.\"},\n",
        "    {\"question\": \"What is the role of Vikas Thakur at Inzint?\",\n",
        "     \"answer\": \"Vikas Thakur is also a director at Inzint. He brings his extensive experience in technology and franchising to the company, helping drive its growth and success.\"},\n",
        "    {\"question\": \"What is the role of Kakoli at Inzint?\",\n",
        "     \"answer\": \"Kakoli is HR at Inzint. With her background in business management, she contributes to the company's operations and strategic decision-making process.\"},\n",
        "    {\"question\": \"Who is the HR manager at Inzint?\",\n",
        "     \"answer\": \"Kakoli and Mohini is the HR manager at Inzint. She oversees all HR-related activities, including recruitment, employee relations, and performance management.\"},\n",
        "    {\"question\": \"What is the role of the engineers at Inzint?\",\n",
        "     \"answer\": \"The engineers at Inzint are responsible for developing cutting-edge software solutions for our clients. They work across various technologies and platforms to deliver high-quality products.\"},\n",
        "    {\"question\": \"Who is the business development manager at Inzint?\",\n",
        "     \"answer\": \"Amit is the business development manager at Inzint. He leads the company's efforts to acquire new clients and expand its business operations.\"},\n",
        "    {\"question\": \"What is the role of the quality engineer at Inzint?\",\n",
        "     \"answer\": \"Dennis is the quality engineer at Inzint. He ensures that all products and services meet the highest quality standards through rigorous testing and quality assurance processes.\"},\n",
        "    {\"question\": \"Who is responsible for project management at Inzint?\",\n",
        "     \"answer\": \"Jayesh is responsible for project management at Inzint. He oversees the planning, execution, and delivery of projects to ensure they are completed on time and within budget.\"},\n",
        "    {\"question\": \"What is the role of the corporate trainer at Inzint?\",\n",
        "     \"answer\": \"Vanshika is the corporate trainer at Inzint. She conducts training sessions to enhance the skills and knowledge of our employees, ensuring they stay updated with the latest technologies and industry trends.\"},\n",
        "    {\"question\": \"What services does Inzint provide?\",\n",
        "     \"answer\": \"Inzint provides full support and commitment to developers, working per business hour. They offer custom software solutions designed as per the client's needs using the latest technology. They also specialize in cloud computing, delivering reliable hosting services worldwide. Additionally, they offer cloud computing remote resource hire to increase productivity and adaptability without the need for additional entities.\"},\n",
        "    {\"question\": \"What expertise does Inzint have in mobile app development?\",\n",
        "     \"answer\": \"Inzint has expertise in developing mobile apps for both Android and iOS platforms. Their team of experts works across multiple platforms to deliver high-quality mobile applications.\"},\n",
        "    {\"question\": \"What services does Inzint offer for web development?\",\n",
        "     \"answer\": \"Inzint offers scalable web development services. They specialize in automating work processes to enhance user experience.\"},\n",
        "    {\"question\": \"Who is Vanshika?\",\"answer\": \"Vanshika is a corporate trainer at Inzint, who is well-trained and knowledgeable in AI/ML, Python, etc.\"},\n",
        "    {\"question\": \"Who is Vanshika at Inzint?\",\"answer\": \"Vanshika is a corporate trainer at Inzint, who is well-trained and knowledgeable in AI/ML, Python, etc.\"},\n",
        "    {\"question\": \"How does Inzint provide software consultation?\",\n",
        "     \"answer\": \"Inzint offers software consultation services where consultants help identify and overcome technology barriers that may hinder business growth. They partner with companies to provide the best solutions tailored to their needs.\"},\n",
        "    {\"question\": \"Who are the key members of the Inzint team?\",\n",
        "     \"answer\": \"The key members of the Inzint team include Vikas Thakur (Director), Jaideep Jai (Director), Kakoli (Asst Manager HR), Dhiraj (Account Manager), Garima (Business Manager), and a team of skilled engineers and developers such as Amit, Aman, Dennis, Jayesh, Samkeet, Mordhawaj, Para, Shivam, Hardik, Saksham, Mohini, Vartika, and others.\"},\n",
        "    {\"question\": \"What is the mission and vision of Inzint?\",\n",
        "     \"answer\": \"The mission of Inzint is to deliver custom software solutions that enhance the digital journey of their clients using frontier technology. Their vision is to help organizations, both small and large, accomplish their goals through innovative software solutions.\"},\n",
        "    {\"question\": \"What is the main service offered by Inzint?\",\n",
        "     \"answer\": \"Inzint provides custom software development services designed to meet specific demands, budgets, and timelines. They aim to lead the transformation of businesses by delivering innovative software solutions tailored to the client's needs. They take care of all stages of development, including product design, coding, testing, deployment, and support.\"},\n",
        "    {\"question\": \"What is the expertise of Inzint in cloud computing?\",\n",
        "     \"answer\": \"Inzint specializes in cloud computing and delivers reliable hosting services globally. They work with leading network hosting providers to ensure highly available and secure technology platforms. They also offer remote resource development services, allowing businesses to hire resources without additional entities, thereby increasing productivity and adaptability.\"},\n",
        "    {\"question\": \"What expertise does Inzint have in mobile app development?\",\n",
        "     \"answer\": \"Inzint is experienced in mobile app development, with expertise in developing apps for Android and iOS platforms. They work across multiple platforms to deliver high-quality mobile applications.\"},\n",
        "    {\"question\": \"What services does Inzint offer for web development?\",\n",
        "     \"answer\": \"Inzint offers scalable web development services. They specialize in automating work processes to enhance user experience.\"},\n",
        "    {\"question\": \"How does Inzint ensure customer satisfaction?\",\n",
        "     \"answer\": \"Inzint believes in providing customer satisfaction by incorporating ideas and suggestions at every stage of development. They strive to keep the development process transparent, involving customers in evaluating progress.\"},\n",
        "    {\"question\": \"What is the innovation and technology expertise of Inzint?\",\n",
        "     \"answer\": \"Inzint has a strong technology development and innovation presence in the USA, Australia, and India. They use their expertise and tech background to provide powerful and adaptable digital solutions, transforming businesses and ensuring customer satisfaction.\"},\n",
        "    {\"question\": \"What is the history of Inzint?\",\n",
        "     \"answer\": \"Inzint began as a freelancing division of a software company in 2015, completing various projects across multiple domains. In 2020, it became an independent company offering multiple services. It moved its office to Noida, India, where it witnessed new members joining the team, contributing to its talent pool. Inzint has made its mark in the industry by delivering solutions to clients on time and within budget. It has received external recognition and has completed extensive training to consistently meet the needs of its customers.\"},\n",
        "    {\"question\": \"Where are the locations of Inzint offices?\",\n",
        "     \"answer\": \"Inzint has offices in Noida, India (B-111 Second Floor, Sector 65, Noida, UP 201301), Australia (15 Carrington Rd, Marrickville, Australia 2204), and the United States (214 Fairway Green Dr, Fallon, MO, USA 63368). You can also contact them at +253.\"},\n",
        "    {\"question\": \"What services does Inzint offer for software consultation?\",\n",
        "     \"answer\": \"Inzint provides software consultation services to help identify technology barriers and improve business performance, scalability, and competitiveness. Their experienced consultants offer unbiased and independent views to align technology with business plans.\"},\n",
        "    {\"question\": \"How does Inzint help businesses improve service efficiency?\",\n",
        "     \"answer\": \"Inzint offers comprehensive services, including network management, monitoring, and service desk support. They use the latest technology and best practices to ensure products meet market demands and provide the best possible user experience. Businesses can scale costs according to their requirements and benefit from a trusted advisor relationship with Inzint.\"},\n",
        "    {\"question\": \"How does Inzint accommodate diverse needs?\",\n",
        "     \"answer\": \"Inzint always accommodates diverse needs and makes clients feel like a part of the company rather than an external supplier. They prioritize client satisfaction and strive to meet unique requirements.\"},\n",
        "    {\"question\": \"Who is Laurie Mahon and how can they help with custom software?\",\n",
        "     \"answer\": \"Laurie Mahon is associated with PBT Solution. They can help with custom software development. Clients can contact them today for an overview of solutions and benefits.\"},\n",
        "    {\"question\": \"What is the process for custom software development at Inzint?\",\n",
        "     \"answer\": \"Inzint follows a specific process for custom software development, keeping client demands in mind. This process includes designing, creating, deploying, and maintaining software to meet organizational functions. They believe in providing cost-competitive solutions to meet unique requirements.\"},\n",
        "    {\"question\": \"How does Inzint's custom software service help businesses succeed?\",\n",
        "     \"answer\": \"Inzint's custom software service ensures the success of businesses by offering comprehensive services. These include network management, monitoring, and service desk support. They maximize service efficiency, resolve problems, and drive continuous improvement in service and infrastructure.\"},\n",
        "    {\"question\": \"How does Inzint help companies reach their full potential?\",\n",
        "     \"answer\": \"Inzint helps companies reach their full potential by expanding their digital footprint across mobile and web platforms. They provide superior software, web, mobile, and cloud solutions globally. With their strong technology development and innovation centers in Noida and Sydney, they transform businesses and ensure customer satisfaction.\"},\n",
        "    {\"question\": \"What are the current openings at Inzint?\",\n",
        "     \"answer\": \"Inzint has openings for full-stack developers and backend developers in Noida. They are always looking for talented individuals to join their team.\"},\n",
        "    {\"question\": \"What are the benefits of being a member of Inzint?\",\n",
        "     \"answer\": \"Members of Inzint receive benefits such as assigned devices to enhance their work experience.\"},\n",
        "    {\"question\": \"What are some perks offered by Inzint to its employees?\",\n",
        "     \"answer\": \"Inzint offers flexibility in work hours, approved vacation, paid maternal and parental leave, unlimited healthy catered lunches and beverages, fun board games, team outings, and company parties. These perks encourage excellent performance and foster a positive work environment.\"},\n",
        "    {\"question\": \"How has the understanding of chat capability changed with the latest version of GPT?\",\n",
        "     \"answer\": \"The latest version of GPT (Generative Pre-trained Transformer) has improved chat capabilities. It is a natural language processing model developed by OpenAI. Compared to its predecessor, it promises more advanced chat capabilities.\"},\n",
        "    {\"question\": \"How has GPT transformed marketing?\",\n",
        "     \"answer\": \"Chat GPT has completely changed the way companies communicate with clients, especially in the area of marketing. It enables businesses to interact with customers in a more personalized manner, providing individualized experiences.\"},\n",
        "    {\"question\": \"What is the impact of GPT on customer service?\",\n",
        "     \"answer\": \"GPT has revolutionized customer service by providing sophisticated language models that comprehend natural language and produce responses. This revolution is transforming the customer service sector.\"},\n",
        "    {\"question\": \"What is the significance of adopting agile methodology in software development?\",\n",
        "     \"answer\": \"Adopting agile methodology in software development provides numerous benefits to development teams and organizations as a whole. One key benefit is adaptability, allowing teams to respond to changes and deliver value more efficiently.\"},\n",
        "    {\"question\": \"What is the MERN stack?\",\n",
        "     \"answer\": \"The MERN stack is a group of strong technologies used to create scalable and feature-rich web applications. It includes MongoDB (a NoSQL database), Express.js (a web application framework), React (a JavaScript library for building user interfaces), and Node.js (a JavaScript runtime environment).\"},\n",
        "    {\"question\": \"What is the future of AI according to a February 2023 article?\",\n",
        "     \"answer\": \"According to the article, the future of AI includes highly developed systems like ChatGPT, which are capable of generating text responses resembling human speech. These systems are trained on large corpora of conversational text, enabling them to generate natural and coherent responses.\"},\n",
        "    {\"question\": \"Where are Inzint's regional offices located?\",\n",
        "     \"answer\": \"Inzint has regional offices located around the world. Specifically, it has two regional offices across the globe. For assistance, one can visit their database messaging service at Australia: 15 Carrington Rd, Marrickville, Australia; India: Sector 3, Noida, India 201301; United States: 12379 Cross Creek Cove, Louis, MO 63141, USA.\"},\n",
        "    {\"question\": \"What services does Inzint offer regarding remote resources?\",\n",
        "     \"answer\": \"Inzint offers remote resource hiring services without the need for additional entities. They prioritize productivity and adaptability, providing skilled developers and modern technology to manage software development remotely. Their comprehensive services ensure brilliant results for clients.\"},\n",
        "    {\"question\": \"How does Inzint prioritize communication with clients during the development process?\",\n",
        "     \"answer\": \"Inzint prioritizes clear communication and direct interaction with developers to ensure that clients feel involved in the development process. This approach enables clients to communicate their requirements effectively.\"},\n",
        "    {\"question\": \"What industries does Inzint cater to with its custom software solutions?\",\n",
        "     \"answer\": \"Inzint offers custom software solutions tailored to the unique needs of clients in various industries, including healthcare, cybersecurity, cloud services, and retail. The company adapts its services to meet the specific requirements of each industry.\"},\n",
        "    {\"question\": \"What factors contribute to Inzint being a reliable partner for businesses seeking software solutions?\",\n",
        "     \"answer\": \"Inzint's dedication to customer satisfaction, focus on transparency and flexibility, and track record of successful projects contribute to its reputation as a reliable partner for businesses seeking innovative software solutions.\"},\n",
        "    {\"question\": \"What is the approach of Inzint towards managing costs in cloud computing?\",\n",
        "     \"answer\": \"Inzint scales costs according to the client's requirements, whether increasing or decreasing staff or project work. Through regular account management meetings, the managed service company oversees the overall roadmap to become a trusted advisor. As businesses grow, the support structure can be scaled using managed services.\"},\n",
        "    {\"question\": \"How does Inzint assist in web development?\",\n",
        "     \"answer\": \"Inzint offers web app development services that include scalable web development for any type of business. The company automates work processes and enhances customer experience using front-end technologies like JavaScript and back-end technologies like Got. The experienced software development team ensures the best results.\"},\n",
        "    {\"question\": \"What is Inzint's approach to mobile app development?\",\n",
        "     \"answer\": \"Inzint offers mobile app development services for both iOS and Android platforms. The company assists in building applications that work equally well across devices. With expertise gained from 11 years of Android and iOS app development, Inzint promises reliable products appealing to platform users.\"},\n",
        "    {\"question\": \"In which year Inzint started?\",\n",
        "     \"answer\": \"Inzint was started in the year 2020.\"},\n",
        "    {\"question\": \"Who is corporate trainer?\",\n",
        "     \"answer\": \"The corporate trainer at Inzint is Vanshika.\"},\n",
        "    {\"question\": \"Can you provide information about other team members at Inzint?\",\n",
        "     \"answer\": \"Sure, here are some other team members at Inzint:\\n- Amit: Engineer (Full Stack)\\n- Aman: Engineer (Full Stack)\\n- Dennis: Quality Engineer\\n- Jayesh: Management\\n- Samkeet: BD\\n- Mordhawaj: Engineer (Full Stack)\\n- Para: Software Engineer\\n- Shivam: Software Engineer\\n- Hardik: Software Engineer\\n- Saksham: Software Engineer\\n- Mohini: HR Executive\\n- Vartika Pandey: Wordpress Developer\\n- Kunal: Social Media Intern\\n- Radhika: BDE Intern\\n- Faizan: Engineer (Full Stack)\\n- Parakh: Engineer (Full Stack)\\n- Ziaul: Engineer (Full Stack)\\n- Himannshu: Engineer (Full Stack)\\n- Atif: Engineer (Full Stack)\\n- Abhiraj: Engineer (Full Stack)\\n- Alok Sharma: Trainee Developer\\n- Priyanshu: Engineer (Full Stack)\\n- Rohit: Engineer (Full Stack)\\n- Md Imtiyaz: Office Administrator\\n- Akash Kumar: Software Project Manager\\n- Pratham: Trainee Developer\\n- Ujjwal Deep: Trainee Developer\\n- Ravi Kumar Ray: Trainee Developer\\n- Sunny Patel: Trainee Developer\\n- Shilpi Shukla: Trainee Developer\\n- Adarsh Singh: Trainee Developer\\n- Vansh Bhardwaj: Trainee Developer\\n- Abhay Tyagi: Trainee Developer\\n- Prashant Saini: Trainee Developer\\n- Mohd Arman: Trainee Developer\"},\n",
        "    {\"question\": \"Who is Amit?\",\"answer\": \"Amit is an Engineer (Full Stack) at Inzint.\"},\n",
        "    {\"question\": \"Who is Aman?\",\"answer\": \"Aman is an Engineer (Full Stack) at Inzint.\"},\n",
        "    {\"question\": \"Who is Dennis?\",\"answer\": \"Dennis is a Quality Engineer at Inzint.\"},\n",
        "    {\"question\": \"Who is Jayesh?\",\"answer\": \"Jayesh is in Management at Inzint.\"},\n",
        "    {\"question\": \"Who is Samkeet?\",\"answer\": \"Samkeet is in BD at Inzint.\"},\n",
        "    {\"question\": \"Who is Mordhawaj?\",\"answer\": \"Mordhawaj is an Engineer (Full Stack) at Inzint.\"},\n",
        "    {\"question\": \"Who is Para?\",\"answer\": \"Para is a Software Engineer at Inzint.\"},\n",
        "    {\"question\": \"Who is Shivam?\",\"answer\": \"Shivam is a Software Engineer at Inzint.\"},\n",
        "    {\"question\": \"Who is Hardik?\",\"answer\": \"Hardik is a Software Engineer at Inzint.\"},\n",
        "    {\"question\": \"Who is Saksham?\",\"answer\": \"Saksham is a Software Engineer at Inzint.\"},\n",
        "    {\"question\": \"Who is Mohini?\",\"answer\": \"Mohini is the HR Executive at Inzint.\"},\n",
        "    {\"question\": \"Who is Vartika Pandey?\",\"answer\": \"Vartika Pandey is a Wordpress Developer at Inzint.\"},\n",
        "    {\"question\": \"Who is Kunal?\",\"answer\": \"Kunal is a Social Media Intern at Inzint.\"},\n",
        "    {\"question\": \"Who is Radhika?\",\"answer\": \"Radhika is a BDE Intern at Inzint.\"},\n",
        "    {\"question\": \"Who is Faizan?\",\"answer\": \"Faizan is an Engineer (Full Stack) at Inzint.\"},\n",
        "    {\"question\": \"Who is Parakh?\",\"answer\": \"Parakh is an Engineer (Full Stack) at Inzint.\"},\n",
        "    {\"question\": \"Who is Ziaul?\",\"answer\": \"Ziaul is an Engineer (Full Stack) at Inzint.\"},\n",
        "    {\"question\": \"Who is Himannshu?\",\"answer\": \"Himannshu is an Engineer (Full Stack) at Inzint.\"},\n",
        "    {\"question\": \"Who is Atif?\",\"answer\": \"Atif is an Engineer (Full Stack) at Inzint.\"},\n",
        "    {\"question\": \"Who is Abhiraj?\",\"answer\": \"Abhiraj is an Engineer (Full Stack) at Inzint.\"},\n",
        "    {\"question\": \"Who is Alok Sharma?\",\"answer\": \"Alok Sharma is a Trainee Developer at Inzint.\"},\n",
        "    {\"question\": \"Who is Priyanshu?\",\"answer\": \"Priyanshu is an Engineer (Full Stack) at Inzint.\"},\n",
        "    {\"question\": \"Who is Rohit?\",\"answer\": \"Rohit is an Engineer (Full Stack) at Inzint.\"},\n",
        "    {\"question\": \"Who is Md Imtiyaz?\",\"answer\": \"Md Imtiyaz is the Office Administrator at Inzint.\"},\n",
        "    {\"question\": \"Who is Akash Kumar?\",\"answer\": \"Akash Kumar is the Software Project Manager at Inzint.\"},\n",
        "    {\"question\": \"Who is Pratham?\",\"answer\": \"Pratham is a Trainee Developer at Inzint.\"},\n",
        "    {\"question\": \"Who is Ujjwal Deep?\",\"answer\": \"Ujjwal Deep is a Trainee Developer at Inzint.\"},\n",
        "    {\"question\": \"Who is Ravi Kumar Ray?\",\"answer\": \"Ravi Kumar Ray is a Trainee Developer at Inzint.\"},\n",
        "    {\"question\": \"Who is Sunny Patel?\",\"answer\": \"Sunny Patel is a Trainee Developer at Inzint.\"},\n",
        "    {\"question\": \"Who is Shilpi Shukla?\",\"answer\": \"Shilpi Shukla is a Trainee Developer at Inzint.\"},\n",
        "    {\"question\": \"Who is Adarsh Singh?\",\"answer\": \"Adarsh Singh is a Trainee Developer at Inzint.\"},\n",
        "    {\"question\": \"Who is Vansh Bhardwaj?\",\"answer\": \"Vansh Bhardwaj is a Trainee Developer at Inzint.\"},\n",
        "    {\"question\": \"Who is Abhay Tyagi?\",\"answer\": \"Abhay Tyagi is a Trainee Developer at Inzint.\"},\n",
        "    {\"question\": \"Who is Prashant Saini?\",\"answer\": \"Prashant Saini is a Trainee Developer at Inzint.\"},\n",
        "    {\"question\": \"Who is Mohd Arman?\",\"answer\": \"Mohd Arman is a Trainee Developer at Inzint.\"},\n",
        "    {\"question\": \"Who is Kakoli?\",\"answer\": \"Kakoli is the HR Assistant Manager at Inzint.\"},\n",
        "    {\"question\": \"Who is Vikas Thakur?\",\"answer\": \"Vikas Thakur is the Co-Founder of Inzint. He is also a Developer proficient in JavaScript & Python.\"},\n",
        "    {\"question\": \"Who is Jaideep Goyal?\",\"answer\": \"Jaideep Goyal is the Co-Founder of Inzint. He specializes in Software Development, Web 3, Metaverse, and Custom Solution.\"},\n",
        "    {\"question\": \"What services does Inzint provide?\",\"answer\": \"Inzint provides a range of services including Metaverse, IT Services, Mobile App Development, Web Development, Cloud Computing, Custom Software, Remote Resources, and Software Consultation.\"},\n",
        "    {\"question\": \"When was Inzint founded?\",\"answer\": \"Inzint was founded in 2020.\"},\n",
        "    {\"question\": \"What are the timings of Inzint?\",\"answer\": \"Inzint open at 9:00 a.m and closes at 6:30p.m from Monday-Friday.\"},\n",
        "    {\"question\": \"What is the industry of Inzint?\",\"answer\": \"Inzint operates in the Information Technology & Services industry.\"},\n",
        "    {\"question\": \"What is the size of Inzint?\",\"answer\": \"Inzint has 11-50 employees.\"},\n",
        "    {\"question\": \"Where is the headquarters of Inzint located?\",\"answer\": \"The headquarters of Inzint is in Noida, Uttar Pradesh.\"},\n",
        "    {\"question\": \"What are the specialties of Inzint?\",\"answer\": \"Inzint specializes in Web Development, Mobile App, Cloud, Software Maintenance, Software Consultancy, Remote Resource, Blockchain Development, AI/ML Development, AR/VR, and Metaverse.\"},\n",
        "    {\"question\": \"What is the website of Inzint?\",\"answer\": \"The website of Inzint is https://inzint.com.\"},\n",
        "    {\"question\": \"What is the contact number of Inzint?\",\"answer\": \"The pcontact number of Inzint is +91 92899 09174.\"},\n",
        "    {\"question\": \"What are the major industries that Inzint serves?\",\"answer\": \"Inzint serves a wide range of industries including healthcare, cybersecurity, retail, finance, and more. We tailor our solutions to meet the unique needs of each industry.\"},\n",
        "    {\"question\": \"How does Inzint ensure the security of its software solutions?\",\"answer\": \"Security is a top priority at Inzint. We employ industry-standard security practices and protocols to ensure the confidentiality, integrity, and availability of our clients' data. Additionally, our team undergoes regular security training to stay updated on the latest threats and vulnerabilities.\"},\n",
        "    {\"question\": \"Can Inzint provide examples of successful projects?\",\"answer\": \"Certainly! Inzint has successfully completed numerous projects across various industries. From developing custom software solutions to implementing cloud-based services, our portfolio showcases our expertise and dedication to client satisfaction.\"},\n",
        "    {\"question\": \"How does Inzint handle communication during the development process?\",\"answer\": \"At Inzint, we prioritize clear communication and direct interaction with our clients. We provide regular updates on project progress and encourage client feedback throughout the development lifecycle. Our goal is to ensure that clients feel involved and informed every step of the way.\"},\n",
        "    {\"question\": \"Who was the founder of Inzint?\",\"answer\": \"The founders of Inzint are Vikas Thakur and Jaideep Goyal.\"},\n",
        "    {\"question\": \"What technologies does Inzint specialize in?\",\"answer\": \"Inzint specializes in a wide range of technologies including Machine learning, Artificial Intellegence, Blockchain, JavaScript, Python, Java, PHP, HTML5, CSS3, React, Angular, Vue.js, Node.js, MongoDB, MySQL, AWS, Microsoft Azure, Google Cloud Platform, and more. We leverage these technologies to deliver cutting-edge solutions to our clients.\"},\n",
        "    {\"question\": \"What services does Inzint offer?\",\"answer\": \"Inzint offers a range of services including Metaverse development, IT services, mobile app development, web development, cloud computing, custom software solutions, remote resources, and software consultation.\"},\n",
        "    {\"question\": \"How experienced is Inzint in the industry?\",\"answer\": \"Inzint has over 7 years of expertise in the technology industry. Our team is committed to providing cutting-edge solutions to companies of all sizes.\"},\n",
        "    {\"question\": \"Can Inzint help with API integrations?\",\"answer\": \"Absolutely! Inzint specializes in seamless API integrations to enhance your business operations. Whether it's integrating third-party services or building custom APIs, we've got you covered.\"},\n",
        "    {\"question\": \"What makes Inzint stand out from other technology service providers?\",\"answer\": \"Inzint stands out for its commitment to excellence, innovation, and customer satisfaction. Our team comprises talented and passionate individuals dedicated to providing the best experience to our clients worldwide.\"},\n",
        "    {\"question\": \"How can I get in touch with Inzint for further inquiries?\",\"answer\": \"You can reach out to us via phone at +91 92899 09174 or visit our website at https://inzint.com for more information. Additionally, feel free to drop us an email at [email protected] We look forward to hearing from you!\"},\n",
        "    {\"question\": \"Who was the founder of Inzint?\",\"answer\": \"The founders of Inzint are Vikas Thakur and Jaideep Goyal.\"},\n",
        "    {\"question\": \"What is the address of Inzint?\",\"answer\": \"Address or the location of Inzint is - B-111 Second Floor, Sector 65, Noida, UP 201301\"},\n",
        "    {\"question\": \"What is the location of Inzint?\",\"answer\": \"Address or the location of Inzint is - B-111 Second Floor, Sector 65, Noida, UP 201301\"},\n",
        "    {\"question\": \"How does Inzint ensure the quality of its software solutions?\",\"answer\": \"Quality assurance is integral to our development process at Inzint. We follow rigorous testing procedures, including unit testing, integration testing, and user acceptance testing, to ensure that our software meets the highest standards of quality and reliability.\"},\n",
        "    {\"question\": \"Can Inzint assist with digital transformation initiatives?\",\"answer\": \"Absolutely! Inzint specializes in helping businesses navigate digital transformation. Whether it's migrating to the cloud, implementing AI/ML solutions, or developing innovative mobile apps, we have the expertise to drive your digital transformation initiatives forward.\"},\n",
        "    {\"question\": \"What sets Inzint apart from other technology service providers?\",\"answer\": \"At Inzint, we differentiate ourselves through our commitment to client satisfaction, our depth of technical expertise, and our innovative approach to problem-solving. We strive to exceed client expectations at every turn and deliver solutions that drive tangible business results.\"},\n",
        "    {\"question\": \"How does Inzint handle data privacy and compliance?\",\"answer\": \"Data privacy and compliance are paramount concerns for Inzint. We adhere to strict data protection regulations, such as GDPR and HIPAA, and implement robust security measures to safeguard sensitive information. Our team is well-versed in data privacy best practices and ensures compliance with relevant regulations.\"},\n",
        "    {\"question\": \"Can Inzint provide ongoing support and maintenance for software solutions?\",\"answer\": \"Yes, Inzint offers comprehensive support and maintenance services to ensure the continued functionality and performance of our software solutions. Whether it's troubleshooting issues, implementing updates, or scaling infrastructure, our team is here to provide ongoing support to our clients.\"},\n",
        "    {\"question\": \"How does Inzint ensure the quality of its software solutions?\", \"answer\": \"Quality assurance is integral to our development process at Inzint. We follow rigorous testing procedures, including unit testing, integration testing, and user acceptance testing, to ensure that our software meets the highest standards of quality and reliability.\"},\n",
        "    {\"question\": \"Can Inzint assist with digital transformation initiatives?\", \"answer\": \"Absolutely! Inzint specializes in helping businesses navigate digital transformation. Whether it's migrating to the cloud, implementing AI/ML solutions, or developing innovative mobile apps, we have the expertise to drive your digital transformation initiatives forward.\"},\n",
        "    {\"question\": \"What sets Inzint apart from other technology service providers?\", \"answer\": \"At Inzint, we differentiate ourselves through our commitment to client satisfaction, our depth of technical expertise, and our innovative approach to problem-solving. We strive to exceed client expectations at every turn and deliver solutions that drive tangible business results.\"},\n",
        "    {\"question\": \"How does Inzint handle data privacy and compliance?\", \"answer\": \"Data privacy and compliance are paramount concerns for Inzint. We adhere to strict data protection regulations, such as GDPR and HIPAA, and implement robust security measures to safeguard sensitive information. Our team is well-versed in data privacy best practices and ensures compliance with relevant regulations.\"},\n",
        "    {\"question\": \"Can Inzint provide ongoing support and maintenance for software solutions?\", \"answer\": \"Yes, Inzint offers comprehensive support and maintenance services to ensure the continued functionality and performance of our software solutions. Whether it's troubleshooting issues, implementing updates, or scaling infrastructure, our team is here to provide ongoing support to our clients.\"},\n",
        "    {\"question\": \"Does Inzint offer scalable solutions for businesses of all sizes?\", \"answer\": \"Absolutely! Inzint specializes in providing scalable solutions tailored to the unique needs and growth trajectories of businesses of all sizes. Whether you're a startup looking to launch a new product or an enterprise seeking to optimize your operations, we have the expertise to scale our solutions to meet your requirements.\"},\n",
        "    {\"question\": \"How quickly can Inzint deliver custom software solutions?\", \"answer\": \"The delivery timeline for custom software solutions can vary depending on the complexity of the project and specific client requirements. However, at Inzint, we prioritize efficiency and strive to deliver solutions in a timely manner without compromising on quality. We work closely with our clients to establish realistic timelines and keep them informed of progress every step of the way.\"},\n",
        "    {\"question\": \"Is Inzint experienced in developing solutions for specific industries?\", \"answer\": \"Yes, Inzint has extensive experience in developing software solutions for a wide range of industries, including healthcare, finance, retail, manufacturing, and more. Our team understands the unique challenges and requirements of each industry and leverages industry-specific expertise to deliver tailored solutions that address our clients' needs.\"},\n",
        "    {\"question\": \"What technologies does Inzint specialize in?\", \"answer\": \"Inzint specializes in a wide range of technologies, including but not limited to JavaScript, Python, Java, Swift, React, Angular, Node.js, AWS, Azure, Google Cloud Platform, Docker, Kubernetes, and more. Our team stays abreast of the latest technological advancements and leverages cutting-edge tools and frameworks to deliver innovative solutions.\"},\n",
        "    {\"question\": \"Can Inzint provide references or case studies of past projects?\", \"answer\": \"Absolutely! Inzint is proud of our track record of successful projects and satisfied clients. We can provide references or case studies upon request to showcase the quality of our work and the value we bring to our clients.\"},\n",
        "    {\"question\": \"Does Inzint offer consultation services for businesses exploring technology solutions?\", \"answer\": \"Yes, Inzint offers consultation services to businesses seeking guidance on technology solutions. Whether you're exploring new technologies, evaluating software vendors, or planning a digital transformation initiative, our experienced consultants can provide valuable insights and recommendations to help you make informed decisions.\"},\n",
        "    {\"question\": \"How does Inzint ensure seamless integration of software solutions with existing systems?\", \"answer\": \"At Inzint, we understand the importance of seamless integration with existing systems for our clients. We leverage industry best practices, robust APIs, and careful planning to ensure smooth integration of our software solutions with our clients' existing infrastructure and applications. Our goal is to minimize disruption and maximize efficiency throughout the integration process.\"},\n",
        "    {\"question\": \"Can Inzint provide training or documentation for using its software solutions?\", \"answer\": \"Yes, Inzint offers training and documentation services to ensure that our clients are equipped with the knowledge and resources they need to effectively use our software solutions. Whether it's user training sessions, comprehensive documentation, or ongoing support, we're committed to empowering our clients to get the most out of our solutions.\"},\n",
        "    {\"question\": \"How does Inzint stay updated on the latest technology trends?\", \"answer\": \"At Inzint, we prioritize continuous learning and professional development. Our team regularly attends industry conferences, participates in training programs, and engages in knowledge-sharing activities to stay updated on the latest technology trends and best practices. Additionally, we foster a culture of innovation and encourage our team members to explore new technologies and methodologies.\"},\n",
        "    {\"question\": \"What support options does Inzint offer for its software solutions?\", \"answer\": \"Inzint offers a range of support options to ensure that our clients receive the assistance they need when they need it. This includes dedicated support channels, ticket-based assistance, on-call support for emergencies, and more. Our goal is to provide prompt and effective support to address any issues or concerns our clients may have.\"},\n",
        "    {\"question\": \"Can Inzint provide assistance with software maintenance and updates?\", \"answer\": \"Yes, Inzint offers comprehensive software maintenance and update services to ensure that our clients' software solutions remain up-to-date, secure, and optimized for performance. Whether it's applying security patches, implementing feature enhancements, or performing routine maintenance tasks, our team is here to keep your software running smoothly.\"},\n",
        "    {\"question\": \"Is Inzint open to collaboration with other technology companies or service providers?\", \"answer\": \"Absolutely! Inzint believes in the power of collaboration and is open to partnering with other technology companies, service providers, and industry stakeholders to deliver innovative solutions to our clients. Whether it's joint ventures, strategic alliances, or technology partnerships, we're always looking for opportunities to collaborate and create value.\"},\n",
        "    {\"question\": \"What is Inzint's approach to project management?\", \"answer\": \"At Inzint, we follow agile project management methodologies to ensure transparency, flexibility, and efficiency throughout the project lifecycle. This includes iterative development, regular communication with stakeholders, continuous feedback loops, and adaptive planning. Our goal is to deliver high-quality solutions that meet our clients' evolving needs while staying on time and within budget.\"},\n",
        "    {\"question\": \"Can Inzint provide assistance with scaling software solutions as our business grows?\", \"answer\": \"Yes, Inzint offers scalability services to help businesses scale their software solutions as they grow. Whether it's optimizing infrastructure, adding new features, or expanding functionality to support increased demand, our team has the expertise and experience to ensure that your software solutions can scale seamlessly with your business.\"},\n",
        "    {\"question\": \"What is the linkedin of inzint?\",\"answer\": \"Company's linkedin page profile is: https://www.linkedin.com/company/inzint/.\"}\n",
        " ]"
      ]
    },
    {
      "cell_type": "code",
      "execution_count": null,
      "metadata": {
        "id": "Dq5pFbcVUYsu"
      },
      "outputs": [],
      "source": [
        "import json\n",
        "json_data = json.dumps(data__, indent=4)\n",
        "with open(\"data__.json\", \"w\") as json_file:\n",
        "    json_file.write(json_data)"
      ]
    },
    {
      "cell_type": "code",
      "execution_count": null,
      "metadata": {
        "colab": {
          "base_uri": "https://localhost:8080/"
        },
        "id": "VFiSHbIJUqTA",
        "outputId": "68b5ab03-f8ca-46a2-c920-78d59b1c0b1b"
      },
      "outputs": [
        {
          "output_type": "stream",
          "name": "stdout",
          "text": [
            "Requirement already satisfied: fuzzywuzzy in /usr/local/lib/python3.10/dist-packages (0.18.0)\n"
          ]
        }
      ],
      "source": [
        "import torch\n",
        "!pip install fuzzywuzzy\n",
        "from fuzzywuzzy import fuzz"
      ]
    },
    {
      "cell_type": "code",
      "execution_count": null,
      "metadata": {
        "colab": {
          "base_uri": "https://localhost:8080/"
        },
        "id": "MU24lqpoUuLn",
        "outputId": "6f9398f5-ff08-436e-f97b-f704d8139e12"
      },
      "outputs": [
        {
          "output_type": "stream",
          "name": "stdout",
          "text": [
            "You: hi\n",
            "Bot: Hey How can I help you?\n",
            "You: linkedin \n",
            "Bot: Inzint is determined to be an organization working to deliver custom software solutions that enhance the digital journey using frontier technology to address challenges. It is founded by Vikas Thakur and Jaideep. It offers custom software development tailored to your needs using the latest technology. Our cloud computing services also include remote resource hiring to increase productivity and adaptability without additional entities. It is located at B-111 Second Floor, Sector 65, Noida.\n",
            "You: linkedin of inzint\n",
            "Bot: Company's linkedin page profile is: https://www.linkedin.com/company/inzint/.\n",
            "You: quit\n",
            "Goodbye!\n"
          ]
        }
      ],
      "source": [
        "def predict_answer(question, data__):\n",
        "    best_match_score = -1\n",
        "    best_match_answer = None\n",
        "\n",
        "    for item in data__:\n",
        "        existing_question = item['question']\n",
        "        # print(\"existi_que\", existing_question)\n",
        "\n",
        "        existing_answer = item['answer']\n",
        "        # print(\"existi_ans\", existing_answer)\n",
        "\n",
        "        similarity_score = fuzz.token_sort_ratio(question.lower(), existing_question.lower())\n",
        "        # print(\"similarity Score\",similarity_score)\n",
        "\n",
        "\n",
        "        if similarity_score > best_match_score:\n",
        "            best_match_score = similarity_score\n",
        "            best_match_answer = existing_answer\n",
        "\n",
        "    if best_match_score >= 65:  # threshold\n",
        "        return best_match_answer\n",
        "    else:\n",
        "        return \"Inzint is determined to be an organization working to deliver custom software solutions that enhance the digital journey using frontier technology to address challenges. It is founded by Vikas Thakur and Jaideep. It offers custom software development tailored to your needs using the latest technology. Our cloud computing services also include remote resource hiring to increase productivity and adaptability without additional entities. It is located at B-111 Second Floor, Sector 65, Noida.\"\n",
        "\n",
        "while True:\n",
        "    question = input(\"You: \")\n",
        "    if question.lower() == 'quit':\n",
        "        print(\"Goodbye!\")\n",
        "        break\n",
        "    answer = predict_answer(question, data__)\n",
        "    print(\"Bot:\", answer)"
      ]
    },
    {
      "cell_type": "code",
      "execution_count": null,
      "metadata": {
        "id": "mbtQ9xV7U3Lb",
        "colab": {
          "base_uri": "https://localhost:8080/"
        },
        "outputId": "1751e411-b31e-40cd-945f-6382b58bf36f"
      },
      "outputs": [
        {
          "output_type": "stream",
          "name": "stdout",
          "text": [
            "Requirement already satisfied: streamlit in /usr/local/lib/python3.10/dist-packages (1.32.0)\n",
            "Requirement already satisfied: altair<6,>=4.0 in /usr/local/lib/python3.10/dist-packages (from streamlit) (4.2.2)\n",
            "Requirement already satisfied: blinker<2,>=1.0.0 in /usr/lib/python3/dist-packages (from streamlit) (1.4)\n",
            "Requirement already satisfied: cachetools<6,>=4.0 in /usr/local/lib/python3.10/dist-packages (from streamlit) (5.3.3)\n",
            "Requirement already satisfied: click<9,>=7.0 in /usr/local/lib/python3.10/dist-packages (from streamlit) (8.1.7)\n",
            "Requirement already satisfied: numpy<2,>=1.19.3 in /usr/local/lib/python3.10/dist-packages (from streamlit) (1.25.2)\n",
            "Requirement already satisfied: packaging<24,>=16.8 in /usr/local/lib/python3.10/dist-packages (from streamlit) (23.2)\n",
            "Requirement already satisfied: pandas<3,>=1.3.0 in /usr/local/lib/python3.10/dist-packages (from streamlit) (1.5.3)\n",
            "Requirement already satisfied: pillow<11,>=7.1.0 in /usr/local/lib/python3.10/dist-packages (from streamlit) (9.4.0)\n",
            "Requirement already satisfied: protobuf<5,>=3.20 in /usr/local/lib/python3.10/dist-packages (from streamlit) (3.20.3)\n",
            "Requirement already satisfied: pyarrow>=7.0 in /usr/local/lib/python3.10/dist-packages (from streamlit) (14.0.2)\n",
            "Requirement already satisfied: requests<3,>=2.27 in /usr/local/lib/python3.10/dist-packages (from streamlit) (2.31.0)\n",
            "Requirement already satisfied: rich<14,>=10.14.0 in /usr/local/lib/python3.10/dist-packages (from streamlit) (13.7.1)\n",
            "Requirement already satisfied: tenacity<9,>=8.1.0 in /usr/local/lib/python3.10/dist-packages (from streamlit) (8.2.3)\n",
            "Requirement already satisfied: toml<2,>=0.10.1 in /usr/local/lib/python3.10/dist-packages (from streamlit) (0.10.2)\n",
            "Requirement already satisfied: typing-extensions<5,>=4.3.0 in /usr/local/lib/python3.10/dist-packages (from streamlit) (4.10.0)\n",
            "Requirement already satisfied: gitpython!=3.1.19,<4,>=3.0.7 in /usr/local/lib/python3.10/dist-packages (from streamlit) (3.1.42)\n",
            "Requirement already satisfied: pydeck<1,>=0.8.0b4 in /usr/local/lib/python3.10/dist-packages (from streamlit) (0.8.1b0)\n",
            "Requirement already satisfied: tornado<7,>=6.0.3 in /usr/local/lib/python3.10/dist-packages (from streamlit) (6.3.3)\n",
            "Requirement already satisfied: watchdog>=2.1.5 in /usr/local/lib/python3.10/dist-packages (from streamlit) (4.0.0)\n",
            "Requirement already satisfied: entrypoints in /usr/local/lib/python3.10/dist-packages (from altair<6,>=4.0->streamlit) (0.4)\n",
            "Requirement already satisfied: jinja2 in /usr/local/lib/python3.10/dist-packages (from altair<6,>=4.0->streamlit) (3.1.3)\n",
            "Requirement already satisfied: jsonschema>=3.0 in /usr/local/lib/python3.10/dist-packages (from altair<6,>=4.0->streamlit) (4.19.2)\n",
            "Requirement already satisfied: toolz in /usr/local/lib/python3.10/dist-packages (from altair<6,>=4.0->streamlit) (0.12.1)\n",
            "Requirement already satisfied: gitdb<5,>=4.0.1 in /usr/local/lib/python3.10/dist-packages (from gitpython!=3.1.19,<4,>=3.0.7->streamlit) (4.0.11)\n",
            "Requirement already satisfied: python-dateutil>=2.8.1 in /usr/local/lib/python3.10/dist-packages (from pandas<3,>=1.3.0->streamlit) (2.8.2)\n",
            "Requirement already satisfied: pytz>=2020.1 in /usr/local/lib/python3.10/dist-packages (from pandas<3,>=1.3.0->streamlit) (2023.4)\n",
            "Requirement already satisfied: charset-normalizer<4,>=2 in /usr/local/lib/python3.10/dist-packages (from requests<3,>=2.27->streamlit) (3.3.2)\n",
            "Requirement already satisfied: idna<4,>=2.5 in /usr/local/lib/python3.10/dist-packages (from requests<3,>=2.27->streamlit) (3.6)\n",
            "Requirement already satisfied: urllib3<3,>=1.21.1 in /usr/local/lib/python3.10/dist-packages (from requests<3,>=2.27->streamlit) (2.0.7)\n",
            "Requirement already satisfied: certifi>=2017.4.17 in /usr/local/lib/python3.10/dist-packages (from requests<3,>=2.27->streamlit) (2024.2.2)\n",
            "Requirement already satisfied: markdown-it-py>=2.2.0 in /usr/local/lib/python3.10/dist-packages (from rich<14,>=10.14.0->streamlit) (3.0.0)\n",
            "Requirement already satisfied: pygments<3.0.0,>=2.13.0 in /usr/local/lib/python3.10/dist-packages (from rich<14,>=10.14.0->streamlit) (2.16.1)\n",
            "Requirement already satisfied: smmap<6,>=3.0.1 in /usr/local/lib/python3.10/dist-packages (from gitdb<5,>=4.0.1->gitpython!=3.1.19,<4,>=3.0.7->streamlit) (5.0.1)\n",
            "Requirement already satisfied: MarkupSafe>=2.0 in /usr/local/lib/python3.10/dist-packages (from jinja2->altair<6,>=4.0->streamlit) (2.1.5)\n",
            "Requirement already satisfied: attrs>=22.2.0 in /usr/local/lib/python3.10/dist-packages (from jsonschema>=3.0->altair<6,>=4.0->streamlit) (23.2.0)\n",
            "Requirement already satisfied: jsonschema-specifications>=2023.03.6 in /usr/local/lib/python3.10/dist-packages (from jsonschema>=3.0->altair<6,>=4.0->streamlit) (2023.12.1)\n",
            "Requirement already satisfied: referencing>=0.28.4 in /usr/local/lib/python3.10/dist-packages (from jsonschema>=3.0->altair<6,>=4.0->streamlit) (0.33.0)\n",
            "Requirement already satisfied: rpds-py>=0.7.1 in /usr/local/lib/python3.10/dist-packages (from jsonschema>=3.0->altair<6,>=4.0->streamlit) (0.18.0)\n",
            "Requirement already satisfied: mdurl~=0.1 in /usr/local/lib/python3.10/dist-packages (from markdown-it-py>=2.2.0->rich<14,>=10.14.0->streamlit) (0.1.2)\n",
            "Requirement already satisfied: six>=1.5 in /usr/local/lib/python3.10/dist-packages (from python-dateutil>=2.8.1->pandas<3,>=1.3.0->streamlit) (1.16.0)\n"
          ]
        }
      ],
      "source": [
        "!pip install streamlit"
      ]
    },
    {
      "cell_type": "code",
      "source": [
        "%%writefile app.py\n",
        "import streamlit as st\n",
        "from fuzzywuzzy import fuzz\n",
        "import json\n",
        "\n",
        "\n",
        "def predict_answer(question, data__):\n",
        "    best_match_score = -1\n",
        "    best_match_answer = None\n",
        "\n",
        "    for item in data__:\n",
        "        existing_question = item['question']\n",
        "        existing_answer = item['answer']\n",
        "\n",
        "        # Calculate the similarity score between the input question and the existing question\n",
        "        similarity_score = fuzz.token_sort_ratio(str(question).lower(), str(existing_question).lower())\n",
        "\n",
        "        # Update the best match if the current similarity score is higher\n",
        "        if similarity_score > best_match_score:\n",
        "            best_match_score = similarity_score\n",
        "            best_match_answer = existing_answer\n",
        "\n",
        "    if best_match_score >= 65:  # Adjust the threshold as needed\n",
        "        return best_match_answer\n",
        "    else:\n",
        "        return \"Inzint is determined to be an organization working to deliver custom software solutions that enhance the digital journey using frontier technology to address challenges. It is founded by Vikas Thakur and Jaideep. It offers custom software development tailored to your needs using the latest technology. Our cloud computing services also include remote resource hiring to increase productivity and adaptability without additional entities. It is located at B-111 Second Floor, Sector 65, Noida.\"\n",
        "\n",
        "# Streamlit UI\n",
        "st.title(\"Chatbot\")\n",
        "\n",
        "def user_message(message):\n",
        "    st.write(\n",
        "        f'<div style=\"background-color: #006400; padding: 10px; border-radius: 5px; margin: 10px 0;\">'\n",
        "        f'<span style=\"font-weight: bold; color: #800000; padding-right: 10px;\">You:</span>'\n",
        "        f'{message}'\n",
        "        f'</div>',\n",
        "        unsafe_allow_html=True\n",
        "    )\n",
        "\n",
        "def bot_message(message):\n",
        "    st.write(\n",
        "        f'<div style=\"background-color: #0066CC; padding: 10px; border-radius: 5px; margin: 10px 0;\">'\n",
        "        f'<span style=\"font-weight: bold; color: #FF5733; padding-right: 10px;\">Bot:</span>'\n",
        "        f'{message}'\n",
        "        f'</div>',\n",
        "        unsafe_allow_html=True\n",
        "    )\n",
        "\n",
        "user_input = st.text_input(\"You:\")\n",
        "\n",
        "if st.button(\"Send\"):\n",
        "    if user_input.lower() == 'quit':\n",
        "        bot_message(\"Goodbye!\")\n",
        "    else:\n",
        "        user_message(user_input)\n",
        "        # Assuming you have loaded your data from a JSON file named 'data.json'\n",
        "        with open('data__.json', 'r') as file:\n",
        "            data = json.load(file)\n",
        "        answer = predict_answer(user_input, data)\n",
        "        bot_message(answer)\n"
      ],
      "metadata": {
        "colab": {
          "base_uri": "https://localhost:8080/"
        },
        "id": "WcvFO6tkkWrI",
        "outputId": "9430e35c-6584-456b-dcf8-e5271f19d3bc"
      },
      "execution_count": null,
      "outputs": [
        {
          "output_type": "stream",
          "name": "stdout",
          "text": [
            "Overwriting app.py\n"
          ]
        }
      ]
    },
    {
      "cell_type": "code",
      "source": [
        "!streamlit run app.py&>/dev/null&"
      ],
      "metadata": {
        "id": "dKAfOXfslsxm"
      },
      "execution_count": null,
      "outputs": []
    },
    {
      "cell_type": "code",
      "source": [
        "!pip install pyngrok\n",
        "from pyngrok import ngrok"
      ],
      "metadata": {
        "colab": {
          "base_uri": "https://localhost:8080/"
        },
        "id": "paQPQIgklxBA",
        "outputId": "79999c29-8813-434a-938c-75fb1338453b"
      },
      "execution_count": null,
      "outputs": [
        {
          "output_type": "stream",
          "name": "stdout",
          "text": [
            "Requirement already satisfied: pyngrok in /usr/local/lib/python3.10/dist-packages (7.1.5)\n",
            "Requirement already satisfied: PyYAML>=5.1 in /usr/local/lib/python3.10/dist-packages (from pyngrok) (6.0.1)\n"
          ]
        }
      ]
    },
    {
      "cell_type": "code",
      "source": [
        "# Set up ngrok with your authtoken\n",
        "ngrok.set_auth_token(\"2dOzHTBSFodgS7FuGux54dnNcyW_6HTTPqKmU6VZdHfLTRYc6\")\n",
        "# Connect using ngrok with the correct protocol and port\n",
        "public_url = ngrok.connect(addr=\"8501\", proto=\"http\")\n",
        "print(\"Streamlit app can be accessed at:\",public_url)"
      ],
      "metadata": {
        "colab": {
          "base_uri": "https://localhost:8080/"
        },
        "id": "P5unWmthl_LN",
        "outputId": "c7e62019-24a7-4c1d-ee9e-086d6f79aad6"
      },
      "execution_count": null,
      "outputs": [
        {
          "output_type": "stream",
          "name": "stdout",
          "text": [
            "Streamlit app can be accessed at: NgrokTunnel: \"https://cb98-34-86-131-138.ngrok-free.app\" -> \"http://localhost:8501\"\n"
          ]
        }
      ]
    },
    {
      "cell_type": "code",
      "source": [
        "!pgrep streamlit"
      ],
      "metadata": {
        "colab": {
          "base_uri": "https://localhost:8080/"
        },
        "id": "wSW1D6YXmDRN",
        "outputId": "3d7f1d47-e6a2-4d73-f03a-b18f17f3e391"
      },
      "execution_count": null,
      "outputs": [
        {
          "output_type": "stream",
          "name": "stdout",
          "text": [
            "780\n",
            "12750\n",
            "18444\n",
            "18538\n"
          ]
        }
      ]
    },
    {
      "cell_type": "code",
      "source": [],
      "metadata": {
        "id": "KLzKxLu_mISa"
      },
      "execution_count": null,
      "outputs": []
    }
  ],
  "metadata": {
    "colab": {
      "provenance": [],
      "gpuType": "T4"
    },
    "kernelspec": {
      "display_name": "Python 3",
      "name": "python3"
    },
    "language_info": {
      "name": "python"
    },
    "accelerator": "GPU"
  },
  "nbformat": 4,
  "nbformat_minor": 0
}